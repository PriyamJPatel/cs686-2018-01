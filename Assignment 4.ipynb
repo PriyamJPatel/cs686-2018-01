{
 "cells": [
  {
   "cell_type": "code",
   "execution_count": 11,
   "metadata": {},
   "outputs": [],
   "source": [
    "import numpy as np\n",
    "import math\n",
    "import operator\n",
    "from classifier import classifier\n",
    "\n",
    "class knn(classifier):\n",
    "    def __init__(self, k = 2):\n",
    "        self.k = k\n",
    "        self.train_data = None\n",
    "        self.test_data = None\n",
    "        self.train_labels = None\n",
    "\n",
    "    def fit(self, X, Y):\n",
    "        self.train_data = X\n",
    "        self.train_labels = Y\n",
    "\n",
    "    def predict(self, X):\n",
    "        self.test_data = X\n",
    "        predictions=[]\n",
    "        for x in range(len(X)):\n",
    "            neighbors = self.findNeighbors(self.train_data, self.test_data[x], self.k, self.train_labels)\n",
    "            result = self.decision(neighbors)\n",
    "            predictions.append(result)\n",
    "        return predictions\n",
    "    \n",
    "    def euclidDist(self, inst1, inst2, length):\n",
    "        dist = 0\n",
    "        for x in range(length):\n",
    "            dist += pow((inst1[x] - inst2[x]), 2)\n",
    "        finalDist = math.sqrt(dist)\n",
    "        return finalDist\n",
    "\n",
    "    def findNeighbors(self, trainingSet, testInst, k, train_labels):\n",
    "        dist = []\n",
    "        length = len(testInst) - 1\n",
    "        for x in range(len(trainingSet)):\n",
    "            finalDist = self.euclidDist(testInst, trainingSet[x], length)\n",
    "            dist.append((trainingSet[x], train_labels[x], finalDist))\n",
    "        dist.sort(key=operator.itemgetter(2))\n",
    "        neighbors = []\n",
    "        for x in range(k):\n",
    "            neighbors.append(dist[x][:2])\n",
    "        return neighbors\n",
    "\n",
    "    def decision(self, neighbors):\n",
    "        classVotes = {}\n",
    "        for x in range(len(neighbors)):\n",
    "            response = neighbors[x][-1][0]\n",
    "            if response in classVotes:\n",
    "                classVotes[response] += 1\n",
    "            else:\n",
    "                classVotes[response] = 1\n",
    "        sortedVotes = sorted(classVotes.items(), key=operator.itemgetter(1), reverse=True)\n",
    "        return sortedVotes[0][0]\n",
    "\n",
    "    def findAccuracy(self, test_labels, predictions):\n",
    "        correctPred = 0\n",
    "        for x in range(len(test_labels)):\n",
    "            if test_labels[x][0] == predictions[x]:\n",
    "                correctPred += 1\n",
    "        accuracy = (correctPred/float(len(test_labels))) * 100.0\n",
    "        return accuracy\n",
    "    "
   ]
  },
  {
   "cell_type": "code",
   "execution_count": 12,
   "metadata": {},
   "outputs": [],
   "source": [
    "import arff\n",
    "import pandas as pd\n",
    "\n",
    "data = arff.load('PhishingData.arff')\n",
    "df = pd.DataFrame(data)\n",
    "\n",
    "data = df.values.tolist()\n",
    "\n",
    "# Correct implementation\n",
    "# data = np.asarray(data)\n",
    "# data = data.astype(np.float)"
   ]
  },
  {
   "cell_type": "code",
   "execution_count": 13,
   "metadata": {},
   "outputs": [],
   "source": [
    "training_data = df.iloc[:,:9]\n",
    "training_labels = df.iloc[:,9:]\n",
    "# training_data = df.values.tolist()\n",
    "# training_labels = df.values.tolist()"
   ]
  },
  {
   "cell_type": "code",
   "execution_count": 14,
   "metadata": {},
   "outputs": [],
   "source": [
    "split = int(len(data) * 0.8)\n",
    "train_data = training_data[:split]\n",
    "train_labels = training_labels[:split]\n",
    "test_data = training_data[split:]\n",
    "test_labels = training_labels[split:]\n",
    "\n",
    "train_data = np.asarray(train_data)\n",
    "train_data = train_data.astype(np.float)\n",
    "\n",
    "train_labels = np.asarray(train_labels)\n",
    "train_labels = train_labels.astype(np.float)\n",
    "\n",
    "test_data = np.asarray(test_data)\n",
    "test_data = test_data.astype(np.float)\n",
    "\n",
    "test_labels = np.asarray(test_labels)\n",
    "test_labels = test_labels.astype(np.float)\n",
    "\n",
    "# print(train_data[0])\n",
    "# print(train_labels[0])\n",
    "# print(test_data[0])\n",
    "# print(test_labels[0])\n",
    "# train_data = sorted(train_data)\n",
    "# test_data = sorted(test_data)\n",
    "\n",
    "# train_x = train_data.iloc[:,:9]\n",
    "# train_y = train_data.iloc[:,9:]\n",
    "# test_x = test_data.iloc[:,:9]\n",
    "# test_y = test_data.iloc[:,9:]\n",
    "\n",
    "# print(len(train_labels))\n",
    "\n",
    "# train_data[0], test_data[0], len(train_data), len(test_data)"
   ]
  },
  {
   "cell_type": "code",
   "execution_count": 17,
   "metadata": {
    "scrolled": false
   },
   "outputs": [
    {
     "name": "stdout",
     "output_type": "stream",
     "text": [
      "Accuracy: 87.4538745387454% when k = 2\n",
      "Accuracy: 88.56088560885608% when k = 3\n",
      "Accuracy: 88.56088560885608% when k = 4\n",
      "Accuracy: 87.82287822878229% when k = 5\n",
      "Accuracy: 88.19188191881919% when k = 6\n",
      "Accuracy: 88.56088560885608% when k = 7\n",
      "Accuracy: 88.19188191881919% when k = 8\n",
      "Accuracy: 87.4538745387454% when k = 9\n",
      "Accuracy: 88.92988929889299% when k = 10\n",
      "Accuracy: 88.56088560885608% when k = 11\n",
      "Accuracy: 88.19188191881919% when k = 12\n"
     ]
    }
   ],
   "source": [
    "for i in range(2,13):\n",
    "    knnImpl = knn(k = i)\n",
    "    knnImpl.fit(train_data, train_labels)\n",
    "    predictions = knnImpl.predict(test_data)\n",
    "    # print(predictions, test_labels)\n",
    "    accuracy = knnImpl.findAccuracy(test_labels, predictions)\n",
    "    print('Accuracy: ' + repr(accuracy) + '%', 'when k = ' + repr(i))"
   ]
  },
  {
   "cell_type": "code",
   "execution_count": null,
   "metadata": {
    "scrolled": true
   },
   "outputs": [],
   "source": [
    "# euclidDist(train_data[0], train_data[1], 9)"
   ]
  },
  {
   "cell_type": "code",
   "execution_count": null,
   "metadata": {
    "scrolled": false
   },
   "outputs": [],
   "source": [
    "# predictions=[]\n",
    "# k = 2\n",
    "# for x in range(len(test_data)):\n",
    "#     neighbors = findNeighbors(train_data, test_data[x], k)\n",
    "#     result = voting(neighbors)\n",
    "#     predictions.append(result)\n",
    "# #     print('predicted result =' + repr(result) + ', actual result =' + repr(test_data[x][-1]))\n",
    "# accuracy = findAccuracy(test_data, predictions)\n",
    "# print('Accuracy: ' + repr(accuracy) + '%')"
   ]
  },
  {
   "cell_type": "code",
   "execution_count": null,
   "metadata": {},
   "outputs": [],
   "source": []
  }
 ],
 "metadata": {
  "kernelspec": {
   "display_name": "Python 3",
   "language": "python",
   "name": "python3"
  },
  "language_info": {
   "codemirror_mode": {
    "name": "ipython",
    "version": 3
   },
   "file_extension": ".py",
   "mimetype": "text/x-python",
   "name": "python",
   "nbconvert_exporter": "python",
   "pygments_lexer": "ipython3",
   "version": "3.6.5"
  }
 },
 "nbformat": 4,
 "nbformat_minor": 2
}
