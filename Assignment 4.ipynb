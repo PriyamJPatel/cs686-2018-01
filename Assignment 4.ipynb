{
 "cells": [
  {
   "cell_type": "code",
   "execution_count": 13,
   "metadata": {},
   "outputs": [],
   "source": [
    "import numpy as np\n",
    "import math\n",
    "import operator\n",
    "\n",
    "def remove(duplicate):\n",
    "    final_list = []\n",
    "    for num in duplicate:\n",
    "        if num not in final_list:\n",
    "            final_list.append(num)\n",
    "    return final_list\n",
    "\n",
    "def euclidDist(inst1, inst2, length):\n",
    "    dist = 0\n",
    "    for x in range(length):\n",
    "        dist += pow((inst1[x] - inst2[x]), 2)\n",
    "    finalDist = math.sqrt(dist)\n",
    "    return finalDist\n",
    "\n",
    "def findNeighbors(trainingSet, testInst, k):\n",
    "    dist = []\n",
    "    length = len(testInst) - 1\n",
    "    for x in range(len(trainingSet)):\n",
    "        finalDist = euclidDist(testInst, trainingSet[x], length)\n",
    "        dist.append((trainingSet[x], finalDist))\n",
    "    dist.sort(key=operator.itemgetter(1))\n",
    "    neighbors = []\n",
    "    for x in range(k):\n",
    "        neighbors.append(dist[x][0])\n",
    "    return neighbors\n",
    "\n",
    "def votes(neighbors):\n",
    "    classVotes = {}\n",
    "    for x in range(len(neighbors)):\n",
    "        response = neighbors[x][-1]\n",
    "        if response in classVotes:\n",
    "            classVotes[response] += 1\n",
    "        else:\n",
    "            classVotes[response] = 1\n",
    "    sortedVotes = sorted(classVotes.items(), key=operator.itemgetter(1), reverse=True)\n",
    "    return sortedVotes[0][0]\n",
    "\n",
    "def findAccuracy(testSet, predictions):\n",
    "    correctPred = 0\n",
    "    for x in range(len(testSet)):\n",
    "        if testSet[x][-1] == predictions[x]:\n",
    "            correctPred += 1\n",
    "    accuracy = (correctPred/float(len(testSet))) * 100.0\n",
    "    return accuracy"
   ]
  },
  {
   "cell_type": "code",
   "execution_count": 2,
   "metadata": {},
   "outputs": [],
   "source": [
    "import arff\n",
    "import pandas as pd\n",
    "\n",
    "data = arff.load('PhishingData.arff')\n",
    "df = pd.DataFrame(data)\n",
    "\n",
    "data = df.values.tolist()\n",
    "# split = int(len(data) * 0.8)\n",
    "# train_data = data[:split]\n",
    "# test_data = data[split:]\n",
    "\n",
    "# train_data = sorted(train_data)\n",
    "# test_data = sorted(test_data)\n",
    "\n",
    "# data = sorted(data)\n",
    "data = np.asarray(data)\n",
    "data = data.astype(np.float)\n",
    "\n",
    "# train_data = np.asarray(train_data)\n",
    "# train_data = train_data.astype(np.float)\n",
    "# test_data = np.asarray(test_data)\n",
    "# test_data = test_data.astype(np.float)\n",
    "\n",
    "# data_afterremoval = remove(data)\n",
    "# data_afterremoval = np.asarray(data_afterremoval)\n",
    "# data_afterremoval = data_afterremoval.astype(np.float)\n",
    "# print(len(data), len(data_afterremoval))"
   ]
  },
  {
   "cell_type": "code",
   "execution_count": 3,
   "metadata": {},
   "outputs": [
    {
     "data": {
      "text/plain": [
       "(array([ 1., -1.,  1., -1., -1.,  1.,  1.,  1.,  0.,  0.]),\n",
       " array([ 1., -1.,  1., -1.,  1., -1.,  0.,  1.,  0., -1.]),\n",
       " 1082,\n",
       " 271)"
      ]
     },
     "execution_count": 3,
     "metadata": {},
     "output_type": "execute_result"
    }
   ],
   "source": [
    "split = int(len(data) * 0.8)\n",
    "train_data = data[:split]\n",
    "test_data = data[split:]\n",
    "\n",
    "# train_data = sorted(train_data)\n",
    "# test_data = sorted(test_data)\n",
    "\n",
    "# train_x = train_data.iloc[:,:9]\n",
    "# train_y = train_data.iloc[:,9:]\n",
    "# test_x = test_data.iloc[:,:9]\n",
    "# test_y = test_data.iloc[:,9:]\n",
    "\n",
    "train_data[0], test_data[0], len(train_data), len(test_data)"
   ]
  },
  {
   "cell_type": "code",
   "execution_count": 4,
   "metadata": {
    "scrolled": true
   },
   "outputs": [
    {
     "data": {
      "text/plain": [
       "3.1622776601683795"
      ]
     },
     "execution_count": 4,
     "metadata": {},
     "output_type": "execute_result"
    }
   ],
   "source": [
    "euclidDist(train_data[0], train_data[1], 9)"
   ]
  },
  {
   "cell_type": "code",
   "execution_count": 16,
   "metadata": {
    "scrolled": false
   },
   "outputs": [
    {
     "name": "stdout",
     "output_type": "stream",
     "text": [
      "Accuracy: 87.4538745387454%\n"
     ]
    }
   ],
   "source": [
    "predictions=[]\n",
    "k = 2\n",
    "for x in range(len(test_data)):\n",
    "    neighbors = findNeighbors(train_data, test_data[x], k)\n",
    "    result = votes(neighbors)\n",
    "    predictions.append(result)\n",
    "#     print('> predicted=' + repr(result) + ', actual=' + repr(test_data[x][-1]))\n",
    "accuracy = findAccuracy(test_data, predictions)\n",
    "print('Accuracy: ' + repr(accuracy) + '%')"
   ]
  },
  {
   "cell_type": "code",
   "execution_count": null,
   "metadata": {},
   "outputs": [],
   "source": []
  }
 ],
 "metadata": {
  "kernelspec": {
   "display_name": "Python 3",
   "language": "python",
   "name": "python3"
  },
  "language_info": {
   "codemirror_mode": {
    "name": "ipython",
    "version": 3
   },
   "file_extension": ".py",
   "mimetype": "text/x-python",
   "name": "python",
   "nbconvert_exporter": "python",
   "pygments_lexer": "ipython3",
   "version": "3.6.5"
  }
 },
 "nbformat": 4,
 "nbformat_minor": 2
}
