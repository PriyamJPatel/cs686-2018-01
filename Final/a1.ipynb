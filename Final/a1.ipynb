{
 "cells": [
  {
   "cell_type": "code",
   "execution_count": 20,
   "metadata": {},
   "outputs": [],
   "source": [
    "import pandas as pd\n",
    "from sklearn import preprocessing\n",
    "from sklearn.preprocessing import Imputer\n",
    "from sklearn.model_selection import KFold\n",
    "import warnings; warnings.simplefilter('ignore')\n",
    "from sklearn.preprocessing import Imputer\n",
    "from sklearn.ensemble import RandomForestClassifier\n",
    "from sklearn.metrics import accuracy_score\n",
    "from sklearn.model_selection import cross_val_score\n",
    "from sklearn.model_selection import train_test_split\n",
    "import numpy as np\n",
    "from sklearn.linear_model import LogisticRegression"
   ]
  },
  {
   "cell_type": "code",
   "execution_count": 17,
   "metadata": {},
   "outputs": [
    {
     "data": {
      "text/html": [
       "<div>\n",
       "<style scoped>\n",
       "    .dataframe tbody tr th:only-of-type {\n",
       "        vertical-align: middle;\n",
       "    }\n",
       "\n",
       "    .dataframe tbody tr th {\n",
       "        vertical-align: top;\n",
       "    }\n",
       "\n",
       "    .dataframe thead th {\n",
       "        text-align: right;\n",
       "    }\n",
       "</style>\n",
       "<table border=\"1\" class=\"dataframe\">\n",
       "  <thead>\n",
       "    <tr style=\"text-align: right;\">\n",
       "      <th></th>\n",
       "      <th>MONTH</th>\n",
       "      <th>DAY_OF_WEEK</th>\n",
       "      <th>FL_DATE</th>\n",
       "      <th>UNIQUE_CARRIER</th>\n",
       "      <th>FL_NUM</th>\n",
       "      <th>ORIGIN</th>\n",
       "      <th>ORIGIN_CITY_NAME</th>\n",
       "      <th>DEST</th>\n",
       "      <th>DEST_CITY_NAME</th>\n",
       "      <th>CRS_DEP_TIME</th>\n",
       "      <th>ARR_DEL15</th>\n",
       "      <th>CRS_ELAPSED_TIME</th>\n",
       "      <th>DISTANCE</th>\n",
       "      <th>Unnamed: 13</th>\n",
       "    </tr>\n",
       "  </thead>\n",
       "  <tbody>\n",
       "    <tr>\n",
       "      <th>0</th>\n",
       "      <td>2.0</td>\n",
       "      <td>6.0</td>\n",
       "      <td>2017-02-25</td>\n",
       "      <td>B6</td>\n",
       "      <td>28.0</td>\n",
       "      <td>MCO</td>\n",
       "      <td>Orlando, FL</td>\n",
       "      <td>EWR</td>\n",
       "      <td>Newark, NJ</td>\n",
       "      <td>1000.0</td>\n",
       "      <td>0.0</td>\n",
       "      <td>156.0</td>\n",
       "      <td>937.0</td>\n",
       "      <td>NaN</td>\n",
       "    </tr>\n",
       "    <tr>\n",
       "      <th>1</th>\n",
       "      <td>2.0</td>\n",
       "      <td>7.0</td>\n",
       "      <td>2017-02-26</td>\n",
       "      <td>B6</td>\n",
       "      <td>28.0</td>\n",
       "      <td>MCO</td>\n",
       "      <td>Orlando, FL</td>\n",
       "      <td>EWR</td>\n",
       "      <td>Newark, NJ</td>\n",
       "      <td>739.0</td>\n",
       "      <td>0.0</td>\n",
       "      <td>153.0</td>\n",
       "      <td>937.0</td>\n",
       "      <td>NaN</td>\n",
       "    </tr>\n",
       "    <tr>\n",
       "      <th>2</th>\n",
       "      <td>2.0</td>\n",
       "      <td>1.0</td>\n",
       "      <td>2017-02-27</td>\n",
       "      <td>B6</td>\n",
       "      <td>28.0</td>\n",
       "      <td>MCO</td>\n",
       "      <td>Orlando, FL</td>\n",
       "      <td>EWR</td>\n",
       "      <td>Newark, NJ</td>\n",
       "      <td>1028.0</td>\n",
       "      <td>0.0</td>\n",
       "      <td>158.0</td>\n",
       "      <td>937.0</td>\n",
       "      <td>NaN</td>\n",
       "    </tr>\n",
       "  </tbody>\n",
       "</table>\n",
       "</div>"
      ],
      "text/plain": [
       "   MONTH  DAY_OF_WEEK     FL_DATE UNIQUE_CARRIER  FL_NUM ORIGIN  \\\n",
       "0    2.0          6.0  2017-02-25             B6    28.0    MCO   \n",
       "1    2.0          7.0  2017-02-26             B6    28.0    MCO   \n",
       "2    2.0          1.0  2017-02-27             B6    28.0    MCO   \n",
       "\n",
       "  ORIGIN_CITY_NAME DEST DEST_CITY_NAME  CRS_DEP_TIME  ARR_DEL15  \\\n",
       "0      Orlando, FL  EWR     Newark, NJ        1000.0        0.0   \n",
       "1      Orlando, FL  EWR     Newark, NJ         739.0        0.0   \n",
       "2      Orlando, FL  EWR     Newark, NJ        1028.0        0.0   \n",
       "\n",
       "   CRS_ELAPSED_TIME  DISTANCE  Unnamed: 13  \n",
       "0             156.0     937.0          NaN  \n",
       "1             153.0     937.0          NaN  \n",
       "2             158.0     937.0          NaN  "
      ]
     },
     "execution_count": 17,
     "metadata": {},
     "output_type": "execute_result"
    }
   ],
   "source": [
    "df = pd.read_csv(\"aggregated.csv\")\n",
    "df.head(3)"
   ]
  },
  {
   "cell_type": "code",
   "execution_count": 4,
   "metadata": {},
   "outputs": [],
   "source": [
    "df = df.iloc[:,:-1] #Ignoring last column (Unname: 13)\n",
    "# print(len(df))"
   ]
  },
  {
   "cell_type": "code",
   "execution_count": 5,
   "metadata": {},
   "outputs": [],
   "source": [
    "FL_DATE = df.iloc[:,2]\n",
    "UNIQUE_CARRIER = df.iloc[:,3]\n",
    "ORIGIN = df.iloc[:,5]\n",
    "ORIGIN_CITY_NAME = df.iloc[:,6]\n",
    "DEST = df.iloc[:,7]\n",
    "DEST_CITY_NAME = df.iloc[:,8]\n",
    "# UNIQUE_CARRIER.head(5), ORIGIN.head(5), ORIGIN_CITY_NAME.head(5), DEST.head(5), DEST_CITY_NAME.head(5)"
   ]
  },
  {
   "cell_type": "code",
   "execution_count": 8,
   "metadata": {},
   "outputs": [],
   "source": [
    "le = preprocessing.LabelEncoder()\n",
    "\n",
    "le.fit(FL_DATE)\n",
    "encoded_FL_DATE = le.transform(FL_DATE)\n",
    "\n",
    "le.fit(UNIQUE_CARRIER)\n",
    "encoded_UNIQUE_CARRIER = le.transform(UNIQUE_CARRIER)\n",
    "\n",
    "le.fit(ORIGIN)\n",
    "encoded_ORIGIN = le.transform(ORIGIN)\n",
    "\n",
    "le.fit(ORIGIN_CITY_NAME)\n",
    "encoded_ORIGIN_CITY_NAME = le.transform(ORIGIN_CITY_NAME)\n",
    "\n",
    "le.fit(DEST)\n",
    "encoded_DEST = le.transform(DEST)\n",
    "\n",
    "le.fit(DEST_CITY_NAME)\n",
    "encoded_DEST_CITY_NAME = le.transform(DEST_CITY_NAME)\n",
    "\n",
    "df['FL_DATE'] = encoded_FL_DATE\n",
    "df['UNIQUE_CARRIER'] = encoded_UNIQUE_CARRIER\n",
    "df['ORIGIN'] = encoded_ORIGIN\n",
    "df['ORIGIN_CITY_NAME'] = encoded_ORIGIN_CITY_NAME\n",
    "df['DEST'] = encoded_DEST\n",
    "df['DEST_CITY_NAME'] = encoded_DEST_CITY_NAME"
   ]
  },
  {
   "cell_type": "code",
   "execution_count": 9,
   "metadata": {},
   "outputs": [
    {
     "data": {
      "text/html": [
       "<div>\n",
       "<style scoped>\n",
       "    .dataframe tbody tr th:only-of-type {\n",
       "        vertical-align: middle;\n",
       "    }\n",
       "\n",
       "    .dataframe tbody tr th {\n",
       "        vertical-align: top;\n",
       "    }\n",
       "\n",
       "    .dataframe thead th {\n",
       "        text-align: right;\n",
       "    }\n",
       "</style>\n",
       "<table border=\"1\" class=\"dataframe\">\n",
       "  <thead>\n",
       "    <tr style=\"text-align: right;\">\n",
       "      <th></th>\n",
       "      <th>MONTH</th>\n",
       "      <th>DAY_OF_WEEK</th>\n",
       "      <th>FL_DATE</th>\n",
       "      <th>UNIQUE_CARRIER</th>\n",
       "      <th>FL_NUM</th>\n",
       "      <th>ORIGIN</th>\n",
       "      <th>ORIGIN_CITY_NAME</th>\n",
       "      <th>DEST</th>\n",
       "      <th>DEST_CITY_NAME</th>\n",
       "      <th>CRS_DEP_TIME</th>\n",
       "      <th>ARR_DEL15</th>\n",
       "      <th>CRS_ELAPSED_TIME</th>\n",
       "    </tr>\n",
       "  </thead>\n",
       "  <tbody>\n",
       "    <tr>\n",
       "      <th>0</th>\n",
       "      <td>2.0</td>\n",
       "      <td>6.0</td>\n",
       "      <td>330</td>\n",
       "      <td>2</td>\n",
       "      <td>28.0</td>\n",
       "      <td>188</td>\n",
       "      <td>219</td>\n",
       "      <td>98</td>\n",
       "      <td>208</td>\n",
       "      <td>1000.0</td>\n",
       "      <td>0.0</td>\n",
       "      <td>156.0</td>\n",
       "    </tr>\n",
       "    <tr>\n",
       "      <th>1</th>\n",
       "      <td>2.0</td>\n",
       "      <td>7.0</td>\n",
       "      <td>331</td>\n",
       "      <td>2</td>\n",
       "      <td>28.0</td>\n",
       "      <td>188</td>\n",
       "      <td>219</td>\n",
       "      <td>98</td>\n",
       "      <td>208</td>\n",
       "      <td>739.0</td>\n",
       "      <td>0.0</td>\n",
       "      <td>153.0</td>\n",
       "    </tr>\n",
       "    <tr>\n",
       "      <th>2</th>\n",
       "      <td>2.0</td>\n",
       "      <td>1.0</td>\n",
       "      <td>332</td>\n",
       "      <td>2</td>\n",
       "      <td>28.0</td>\n",
       "      <td>188</td>\n",
       "      <td>219</td>\n",
       "      <td>98</td>\n",
       "      <td>208</td>\n",
       "      <td>1028.0</td>\n",
       "      <td>0.0</td>\n",
       "      <td>158.0</td>\n",
       "    </tr>\n",
       "  </tbody>\n",
       "</table>\n",
       "</div>"
      ],
      "text/plain": [
       "   MONTH  DAY_OF_WEEK  FL_DATE  UNIQUE_CARRIER  FL_NUM  ORIGIN  \\\n",
       "0    2.0          6.0      330               2    28.0     188   \n",
       "1    2.0          7.0      331               2    28.0     188   \n",
       "2    2.0          1.0      332               2    28.0     188   \n",
       "\n",
       "   ORIGIN_CITY_NAME  DEST  DEST_CITY_NAME  CRS_DEP_TIME  ARR_DEL15  \\\n",
       "0               219    98             208        1000.0        0.0   \n",
       "1               219    98             208         739.0        0.0   \n",
       "2               219    98             208        1028.0        0.0   \n",
       "\n",
       "   CRS_ELAPSED_TIME  \n",
       "0             156.0  \n",
       "1             153.0  \n",
       "2             158.0  "
      ]
     },
     "execution_count": 9,
     "metadata": {},
     "output_type": "execute_result"
    }
   ],
   "source": [
    "df.head(3)"
   ]
  },
  {
   "cell_type": "code",
   "execution_count": 10,
   "metadata": {},
   "outputs": [
    {
     "name": "stdout",
     "output_type": "stream",
     "text": [
      "5129354 5129354\n"
     ]
    }
   ],
   "source": [
    "# Splitting into data and labels\n",
    "X = df.iloc[:,df.columns != 'ARR_DEL15']\n",
    "Y = df.iloc[:,df.columns == 'ARR_DEL15']\n",
    "# print(len(X), len(Y))"
   ]
  },
  {
   "cell_type": "code",
   "execution_count": 24,
   "metadata": {},
   "outputs": [
    {
     "name": "stdout",
     "output_type": "stream",
     "text": [
      "Accuracy Score : 0.8185894536550369\n",
      "Accuracy Score : 0.8392275059656565\n",
      "Accuracy Score : 0.776849353525586\n",
      "Accuracy Score : 0.8286784316171998\n",
      "Accuracy Score : 0.8067104019027752\n",
      "Accuracy Score : 0.7536354508855898\n",
      "Accuracy Score : 0.7744002651408073\n",
      "Accuracy Score : 0.8084104223732052\n",
      "Accuracy Score : 0.8437423845126576\n",
      "Accuracy Score : 0.7642820240381335\n",
      "10 fold cross validation Accuracy Score using RandomForestClassifier : 0.8014525693616648\n"
     ]
    }
   ],
   "source": [
    "accuracylist = []\n",
    "\n",
    "x_for_kfold = X\n",
    "kfold = KFold(n_splits=10)\n",
    "for train_index, test_index in kfold.split(x_for_kfold):\n",
    "    X_train, X_test = X.values[train_index], X.values[test_index]\n",
    "    y_train, y_test = Y.values[train_index], Y.values[test_index]\n",
    "    imputer = Imputer(missing_values = 'NaN', strategy = 'most_frequent', axis = 0)\n",
    "    train_x_imputed = imputer.fit_transform(X_train)\n",
    "    train_y_imputed = imputer.fit_transform(y_train)\n",
    "    test_x_imputed = imputer.fit_transform(X_test)\n",
    "    test_y_imputed = imputer.fit_transform(y_test)\n",
    "    clf = RandomForestClassifier()\n",
    "    clf.fit(train_x_imputed, train_y_imputed)\n",
    "    hyp = clf.predict(test_x_imputed)\n",
    "    accuracylist.append(accuracy_score(test_y_imputed, hyp))\n",
    "    print(\"Accuracy Score :\",accuracy_score(test_y_imputed, hyp))\n",
    "print(\"10 fold cross validation Accuracy Score using RandomForestClassifier :\", np.mean(accuracylist))"
   ]
  },
  {
   "cell_type": "code",
   "execution_count": 25,
   "metadata": {},
   "outputs": [
    {
     "name": "stdout",
     "output_type": "stream",
     "text": [
      "RandomForestClassifier Confusion Matrix:\n",
      " [[379159  26369]\n",
      " [ 94539  12868]]\n"
     ]
    }
   ],
   "source": [
    "from sklearn.metrics import accuracy_score, confusion_matrix\n",
    "\n",
    "print('RandomForestClassifier Confusion Matrix:\\n', confusion_matrix(test_y_imputed, hyp))"
   ]
  },
  {
   "cell_type": "markdown",
   "metadata": {},
   "source": [
    "### DecisionTree Accuracy Score = 0.7766\n",
    "### RF Accuracy Score = 0.8181\n",
    "### LR Accuracy Score = 0.8291\n",
    "### MLP Accuracy Score = 0.8291\n",
    "\n",
    "### Running different classifiers yielded varying results, but doing a K-Fold, where K = 10; using Random Forest Classifier gives an accuracy score of 0.8018, which is the best amongst all the Classifiers. Also we checked the confusion matrix, which appears to be better for the Random Forest Classifier compared to Logistic Regression Classifier. Even though the accuracy score's for MLP & LR Classifier's are better, their confusion matrix are not as good as that of Random Forest Classifier.\n",
    "### Also trying to analyze the data made me realize the data points are unbalanced, changing that and having a balanced dataset was the next step but trying that yielded an accuracy score of 0.5124, which made me realize sometimes predicting all datapoints as no delays is better. When you run the classifier for 10 times, selecting different train test sets everytime, it predicts different values, for example sometimes all the predictions are 0's but otherwise its a mixture of both, definitely not an equal mix, but around 70% no delays and 30% delays prediction.\n",
    "\n",
    "#### All the Logistic Regression Classifier code is below for reference."
   ]
  },
  {
   "cell_type": "code",
   "execution_count": 21,
   "metadata": {},
   "outputs": [
    {
     "name": "stdout",
     "output_type": "stream",
     "text": [
      "Accuracy Score : 0.8478874557449663\n",
      "Accuracy Score : 0.8494549027558994\n",
      "Accuracy Score : 0.7897398505856481\n",
      "Accuracy Score : 0.8493359795374081\n",
      "Accuracy Score : 0.8215777827599988\n",
      "Accuracy Score : 0.7766188698373088\n",
      "Accuracy Score : 0.8003353251386628\n",
      "Accuracy Score : 0.8305711249963446\n",
      "Accuracy Score : 0.8676849893261329\n",
      "Accuracy Score : 0.7906030978584031\n",
      "10 fold cross validation Accuracy Score using LogisticRegression : 0.8223809378540773\n"
     ]
    }
   ],
   "source": [
    "accuracylist = []\n",
    "\n",
    "x_for_kfold = X\n",
    "kfold = KFold(n_splits=10)\n",
    "for train_index, test_index in kfold.split(x_for_kfold):\n",
    "    X_train, X_test = X.values[train_index], X.values[test_index]\n",
    "    y_train, y_test = Y.values[train_index], Y.values[test_index]\n",
    "    imputer = Imputer(missing_values = 'NaN', strategy = 'most_frequent', axis = 0)\n",
    "    train_x_imputed = imputer.fit_transform(X_train)\n",
    "    train_y_imputed = imputer.fit_transform(y_train)\n",
    "    test_x_imputed = imputer.fit_transform(X_test)\n",
    "    test_y_imputed = imputer.fit_transform(y_test)\n",
    "    clf = LogisticRegression()\n",
    "    clf.fit(train_x_imputed, train_y_imputed)\n",
    "    hyp = clf.predict(test_x_imputed)\n",
    "    accuracylist.append(accuracy_score(test_y_imputed, hyp))\n",
    "    print(\"Accuracy Score :\",accuracy_score(test_y_imputed, hyp))\n",
    "print(\"10 fold cross validation Accuracy Score using LogisticRegression :\", np.mean(accuracylist))"
   ]
  },
  {
   "cell_type": "code",
   "execution_count": 22,
   "metadata": {},
   "outputs": [
    {
     "name": "stdout",
     "output_type": "stream",
     "text": [
      "cross_val_score : 0.8223809469967553\n"
     ]
    }
   ],
   "source": [
    "# Splitting data into train data, labels and test data, labels\n",
    "# split = int(len(Y) * 0.8)\n",
    "# train_X = X[:split]\n",
    "# train_Y = Y[:split]\n",
    "# test_X = X[split:]\n",
    "# test_Y = Y[split:]\n",
    "\n",
    "# train_X, test_X, train_Y, test_Y = train_test_split(X, Y)\n",
    "\n",
    "imputer = Imputer(missing_values = 'NaN', strategy = 'most_frequent', axis = 0)\n",
    "train_x_imputed = imputer.fit_transform(X)\n",
    "train_y_imputed = imputer.fit_transform(Y)\n",
    "# test_x_imputed = imputer.fit_transform(test_X)\n",
    "# test_y_imputed = imputer.fit_transform(test_Y)\n",
    "\n",
    "# print('training lengths :',len(train_x_imputed), len(train_y_imputed))\n",
    "# print('testing lengths :',len(test_x_imputed), len(test_y_imputed))\n",
    "\n",
    "scores = cross_val_score(clf,train_x_imputed,train_y_imputed,cv=10)\n",
    "print(\"cross_val_score :\", np.mean(scores))"
   ]
  },
  {
   "cell_type": "code",
   "execution_count": 23,
   "metadata": {},
   "outputs": [
    {
     "name": "stdout",
     "output_type": "stream",
     "text": [
      "Confusion Matrix:\n",
      " [[405528      0]\n",
      " [107407      0]]\n"
     ]
    }
   ],
   "source": [
    "from sklearn.metrics import accuracy_score, confusion_matrix\n",
    "\n",
    "print('Confusion Matrix:\\n', confusion_matrix(test_y_imputed, hyp))"
   ]
  },
  {
   "cell_type": "code",
   "execution_count": null,
   "metadata": {},
   "outputs": [],
   "source": []
  }
 ],
 "metadata": {
  "kernelspec": {
   "display_name": "Python 3",
   "language": "python",
   "name": "python3"
  },
  "language_info": {
   "codemirror_mode": {
    "name": "ipython",
    "version": 3
   },
   "file_extension": ".py",
   "mimetype": "text/x-python",
   "name": "python",
   "nbconvert_exporter": "python",
   "pygments_lexer": "ipython3",
   "version": "3.6.5"
  }
 },
 "nbformat": 4,
 "nbformat_minor": 2
}
