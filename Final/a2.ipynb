{
 "cells": [
  {
   "cell_type": "code",
   "execution_count": 11,
   "metadata": {},
   "outputs": [],
   "source": [
    "import pandas as pd\n",
    "from sklearn import preprocessing\n",
    "from sklearn.ensemble import RandomForestClassifier\n",
    "from sklearn.metrics import accuracy_score\n",
    "import warnings; warnings.simplefilter('ignore')\n",
    "import numpy as np\n",
    "from sklearn import tree\n",
    "from sklearn.model_selection import KFold\n",
    "from sklearn.model_selection import train_test_split"
   ]
  },
  {
   "cell_type": "code",
   "execution_count": 2,
   "metadata": {},
   "outputs": [],
   "source": [
    "# Loading train & test data\n",
    "df = pd.read_csv(\"train.csv\")\n",
    "dftest = pd.read_csv(\"test.csv\")"
   ]
  },
  {
   "cell_type": "code",
   "execution_count": 3,
   "metadata": {},
   "outputs": [
    {
     "data": {
      "text/html": [
       "<div>\n",
       "<style scoped>\n",
       "    .dataframe tbody tr th:only-of-type {\n",
       "        vertical-align: middle;\n",
       "    }\n",
       "\n",
       "    .dataframe tbody tr th {\n",
       "        vertical-align: top;\n",
       "    }\n",
       "\n",
       "    .dataframe thead th {\n",
       "        text-align: right;\n",
       "    }\n",
       "</style>\n",
       "<table border=\"1\" class=\"dataframe\">\n",
       "  <thead>\n",
       "    <tr style=\"text-align: right;\">\n",
       "      <th></th>\n",
       "      <th>Unnamed: 0</th>\n",
       "      <th>Weight</th>\n",
       "      <th>Age</th>\n",
       "      <th>Days</th>\n",
       "      <th>Vegan</th>\n",
       "      <th>Cats</th>\n",
       "      <th>Cash</th>\n",
       "      <th>Size</th>\n",
       "      <th>Toppings</th>\n",
       "    </tr>\n",
       "  </thead>\n",
       "  <tbody>\n",
       "    <tr>\n",
       "      <th>0</th>\n",
       "      <td>1</td>\n",
       "      <td>106.238809</td>\n",
       "      <td>36.596211</td>\n",
       "      <td>38</td>\n",
       "      <td>0</td>\n",
       "      <td>1</td>\n",
       "      <td>5.699125</td>\n",
       "      <td>No order</td>\n",
       "      <td>No order</td>\n",
       "    </tr>\n",
       "    <tr>\n",
       "      <th>1</th>\n",
       "      <td>2</td>\n",
       "      <td>184.378192</td>\n",
       "      <td>28.739952</td>\n",
       "      <td>28</td>\n",
       "      <td>0</td>\n",
       "      <td>0</td>\n",
       "      <td>1.171537</td>\n",
       "      <td>No order</td>\n",
       "      <td>No order</td>\n",
       "    </tr>\n",
       "    <tr>\n",
       "      <th>2</th>\n",
       "      <td>3</td>\n",
       "      <td>232.475732</td>\n",
       "      <td>106.605562</td>\n",
       "      <td>38</td>\n",
       "      <td>1</td>\n",
       "      <td>1</td>\n",
       "      <td>259.440103</td>\n",
       "      <td>Large</td>\n",
       "      <td>Hawaiian</td>\n",
       "    </tr>\n",
       "  </tbody>\n",
       "</table>\n",
       "</div>"
      ],
      "text/plain": [
       "   Unnamed: 0      Weight         Age  Days  Vegan  Cats        Cash  \\\n",
       "0           1  106.238809   36.596211    38      0     1    5.699125   \n",
       "1           2  184.378192   28.739952    28      0     0    1.171537   \n",
       "2           3  232.475732  106.605562    38      1     1  259.440103   \n",
       "\n",
       "       Size  Toppings  \n",
       "0  No order  No order  \n",
       "1  No order  No order  \n",
       "2     Large  Hawaiian  "
      ]
     },
     "execution_count": 3,
     "metadata": {},
     "output_type": "execute_result"
    }
   ],
   "source": [
    "# Displaying contents of dataframe\n",
    "df.head(3)"
   ]
  },
  {
   "cell_type": "code",
   "execution_count": 4,
   "metadata": {},
   "outputs": [],
   "source": [
    "# Encoding the data\n",
    "Size = df.iloc[:,7:8]\n",
    "le = preprocessing.LabelEncoder()\n",
    "le.fit(Size)\n",
    "encoded_Size = le.transform(Size)\n",
    "\n",
    "Toppings = df.iloc[:,8:9]\n",
    "le1 = preprocessing.LabelEncoder()\n",
    "le1.fit(Toppings)\n",
    "encoded_Toppings = le1.transform(Toppings)\n",
    "\n",
    "df['Size'] = encoded_Size\n",
    "df['Toppings'] = encoded_Toppings"
   ]
  },
  {
   "cell_type": "code",
   "execution_count": 5,
   "metadata": {},
   "outputs": [],
   "source": [
    "X = df.iloc[:,:7]\n",
    "Y = df.iloc[:,7:9]\n",
    "\n",
    "clf = RandomForestClassifier()\n",
    "clf.fit(X, Y)\n",
    "hyp = clf.predict(dftest)\n",
    "\n",
    "# Writing predictions to output file\n",
    "file = open('pred2.txt','w')\n",
    "\n",
    "for i in range(len(hyp)):\n",
    "    file.write('\\n'+str(i))\n",
    "    file.write(','+str(le.inverse_transform(int(hyp[i][0]))))\n",
    "    file.write(','+str(le1.inverse_transform(int(hyp[i][1]))))\n",
    "\n",
    "file.close()"
   ]
  },
  {
   "cell_type": "code",
   "execution_count": 6,
   "metadata": {},
   "outputs": [
    {
     "name": "stdout",
     "output_type": "stream",
     "text": [
      "Accuracy Score : Size        0.48\n",
      "Toppings    0.56\n",
      "dtype: float64\n"
     ]
    }
   ],
   "source": [
    "# Splitting data to calculate accuracy score using RandomForestClassifier\n",
    "train_X, test_X, train_Y, test_Y = train_test_split(X, Y)\n",
    "\n",
    "\n",
    "clf = RandomForestClassifier()\n",
    "clf.fit(train_X, train_Y)\n",
    "hyp = clf.predict(test_X)\n",
    "accuracy = np.sum(hyp == test_Y)\n",
    "\n",
    "print(\"Accuracy Score :\", accuracy/100)"
   ]
  },
  {
   "cell_type": "code",
   "execution_count": 7,
   "metadata": {},
   "outputs": [
    {
     "name": "stdout",
     "output_type": "stream",
     "text": [
      "Accuracy Score : Size        0.48\n",
      "Toppings    0.45\n",
      "dtype: float64\n"
     ]
    }
   ],
   "source": [
    "# calculating accuracy score using DecisionTreeClassifier\n",
    "clf = tree.DecisionTreeClassifier()\n",
    "clf.fit(train_X, train_Y)\n",
    "hyp = clf.predict(test_X)\n",
    "accuracy = np.sum(hyp == test_Y)\n",
    "\n",
    "print(\"Accuracy Score :\", accuracy/100)"
   ]
  },
  {
   "cell_type": "code",
   "execution_count": 8,
   "metadata": {},
   "outputs": [
    {
     "name": "stdout",
     "output_type": "stream",
     "text": [
      "500 500\n",
      "37.5\n"
     ]
    }
   ],
   "source": [
    "# Just for reference\n",
    "# Splitting train data into train and test\n",
    "# Applying K-fold with RandomForestClassifier\n",
    "\n",
    "print(len(X), len(Y))\n",
    "\n",
    "listacc = []\n",
    "\n",
    "x_for_kfold = X\n",
    "kfold = KFold(n_splits=10)\n",
    "for train_index, test_index in kfold.split(x_for_kfold):\n",
    "    X_train, X_test = X.values[train_index], X.values[test_index]\n",
    "    y_train, y_test = Y.values[train_index], Y.values[test_index]\n",
    "    clf = RandomForestClassifier()\n",
    "    clf.fit(X_train, y_train)\n",
    "    hyp = clf.predict(X_test)\n",
    "    accuracy = np.sum(hyp == y_test)\n",
    "#     print('Accuracy : ', accuracy/100)\n",
    "    e = np.equal(hyp ,y_test)\n",
    "    listacc.append(accuracy)\n",
    "print(np.sum(listacc)/10)"
   ]
  },
  {
   "cell_type": "code",
   "execution_count": 9,
   "metadata": {},
   "outputs": [
    {
     "name": "stdout",
     "output_type": "stream",
     "text": [
      "500 500\n",
      "37.2\n"
     ]
    }
   ],
   "source": [
    "# Just for reference\n",
    "# Splitting train data into train and test\n",
    "# Applying K-fold with DecisionTreeClassifier\n",
    "\n",
    "print(len(X), len(Y))\n",
    "\n",
    "listacc = []\n",
    "\n",
    "x_for_kfold = X\n",
    "kfold = KFold(n_splits=10)\n",
    "for train_index, test_index in kfold.split(x_for_kfold):\n",
    "    X_train, X_test = X.values[train_index], X.values[test_index]\n",
    "    y_train, y_test = Y.values[train_index], Y.values[test_index]\n",
    "    decision_tree = tree.DecisionTreeClassifier()\n",
    "    decision_tree.fit(X_train, y_train)\n",
    "    hyp = decision_tree.predict(X_test)\n",
    "    accuracy = np.sum(hyp == y_test)\n",
    "#     print('Accuracy : ', accuracy/100)\n",
    "    listacc.append(accuracy)\n",
    "print(np.sum(listacc)/10)"
   ]
  },
  {
   "cell_type": "markdown",
   "metadata": {},
   "source": [
    "### Tried other classifiers, but since dealing with multivalue targets, Random Forest Classifier & Decision Tree Classifier give good accuracy's at the beginning, but checking predictions consectively Random Forest Classifier turns out to be better than Decision Tree Classifier."
   ]
  }
 ],
 "metadata": {
  "kernelspec": {
   "display_name": "Python 3",
   "language": "python",
   "name": "python3"
  },
  "language_info": {
   "codemirror_mode": {
    "name": "ipython",
    "version": 3
   },
   "file_extension": ".py",
   "mimetype": "text/x-python",
   "name": "python",
   "nbconvert_exporter": "python",
   "pygments_lexer": "ipython3",
   "version": "3.6.5"
  }
 },
 "nbformat": 4,
 "nbformat_minor": 2
}
