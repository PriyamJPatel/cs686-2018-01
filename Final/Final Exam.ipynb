{
 "cells": [
  {
   "cell_type": "code",
   "execution_count": 1,
   "metadata": {},
   "outputs": [],
   "source": [
    "import pandas as pd\n",
    "\n",
    "df = pd.read_csv(\"aggregated.csv\")"
   ]
  },
  {
   "cell_type": "code",
   "execution_count": 2,
   "metadata": {},
   "outputs": [
    {
     "data": {
      "text/html": [
       "<div>\n",
       "<style scoped>\n",
       "    .dataframe tbody tr th:only-of-type {\n",
       "        vertical-align: middle;\n",
       "    }\n",
       "\n",
       "    .dataframe tbody tr th {\n",
       "        vertical-align: top;\n",
       "    }\n",
       "\n",
       "    .dataframe thead th {\n",
       "        text-align: right;\n",
       "    }\n",
       "</style>\n",
       "<table border=\"1\" class=\"dataframe\">\n",
       "  <thead>\n",
       "    <tr style=\"text-align: right;\">\n",
       "      <th></th>\n",
       "      <th>MONTH</th>\n",
       "      <th>DAY_OF_WEEK</th>\n",
       "      <th>FL_DATE</th>\n",
       "      <th>UNIQUE_CARRIER</th>\n",
       "      <th>FL_NUM</th>\n",
       "      <th>ORIGIN</th>\n",
       "      <th>ORIGIN_CITY_NAME</th>\n",
       "      <th>DEST</th>\n",
       "      <th>DEST_CITY_NAME</th>\n",
       "      <th>CRS_DEP_TIME</th>\n",
       "      <th>ARR_DEL15</th>\n",
       "      <th>CRS_ELAPSED_TIME</th>\n",
       "      <th>DISTANCE</th>\n",
       "      <th>Unnamed: 13</th>\n",
       "    </tr>\n",
       "  </thead>\n",
       "  <tbody>\n",
       "    <tr>\n",
       "      <th>0</th>\n",
       "      <td>2.0</td>\n",
       "      <td>6.0</td>\n",
       "      <td>2017-02-25</td>\n",
       "      <td>B6</td>\n",
       "      <td>28.0</td>\n",
       "      <td>MCO</td>\n",
       "      <td>Orlando, FL</td>\n",
       "      <td>EWR</td>\n",
       "      <td>Newark, NJ</td>\n",
       "      <td>1000.0</td>\n",
       "      <td>0.0</td>\n",
       "      <td>156.0</td>\n",
       "      <td>937.0</td>\n",
       "      <td>NaN</td>\n",
       "    </tr>\n",
       "    <tr>\n",
       "      <th>1</th>\n",
       "      <td>2.0</td>\n",
       "      <td>7.0</td>\n",
       "      <td>2017-02-26</td>\n",
       "      <td>B6</td>\n",
       "      <td>28.0</td>\n",
       "      <td>MCO</td>\n",
       "      <td>Orlando, FL</td>\n",
       "      <td>EWR</td>\n",
       "      <td>Newark, NJ</td>\n",
       "      <td>739.0</td>\n",
       "      <td>0.0</td>\n",
       "      <td>153.0</td>\n",
       "      <td>937.0</td>\n",
       "      <td>NaN</td>\n",
       "    </tr>\n",
       "    <tr>\n",
       "      <th>2</th>\n",
       "      <td>2.0</td>\n",
       "      <td>1.0</td>\n",
       "      <td>2017-02-27</td>\n",
       "      <td>B6</td>\n",
       "      <td>28.0</td>\n",
       "      <td>MCO</td>\n",
       "      <td>Orlando, FL</td>\n",
       "      <td>EWR</td>\n",
       "      <td>Newark, NJ</td>\n",
       "      <td>1028.0</td>\n",
       "      <td>0.0</td>\n",
       "      <td>158.0</td>\n",
       "      <td>937.0</td>\n",
       "      <td>NaN</td>\n",
       "    </tr>\n",
       "  </tbody>\n",
       "</table>\n",
       "</div>"
      ],
      "text/plain": [
       "   MONTH  DAY_OF_WEEK     FL_DATE UNIQUE_CARRIER  FL_NUM ORIGIN  \\\n",
       "0    2.0          6.0  2017-02-25             B6    28.0    MCO   \n",
       "1    2.0          7.0  2017-02-26             B6    28.0    MCO   \n",
       "2    2.0          1.0  2017-02-27             B6    28.0    MCO   \n",
       "\n",
       "  ORIGIN_CITY_NAME DEST DEST_CITY_NAME  CRS_DEP_TIME  ARR_DEL15  \\\n",
       "0      Orlando, FL  EWR     Newark, NJ        1000.0        0.0   \n",
       "1      Orlando, FL  EWR     Newark, NJ         739.0        0.0   \n",
       "2      Orlando, FL  EWR     Newark, NJ        1028.0        0.0   \n",
       "\n",
       "   CRS_ELAPSED_TIME  DISTANCE  Unnamed: 13  \n",
       "0             156.0     937.0          NaN  \n",
       "1             153.0     937.0          NaN  \n",
       "2             158.0     937.0          NaN  "
      ]
     },
     "execution_count": 2,
     "metadata": {},
     "output_type": "execute_result"
    }
   ],
   "source": [
    "df.head(3)"
   ]
  },
  {
   "cell_type": "code",
   "execution_count": 3,
   "metadata": {},
   "outputs": [
    {
     "name": "stdout",
     "output_type": "stream",
     "text": [
      "5129354\n"
     ]
    }
   ],
   "source": [
    "# print(len(df))\n",
    "df = df.iloc[:,:-1] #Ignoring last column (Unname: 13)\n",
    "print(len(df))\n",
    "# df = df.dropna()\n",
    "# print(len(df))\n",
    "\n",
    "# a = df['ARR_DEL15'] != 0\n",
    "# b = df[df['ARR_DEL15'] != 1]"
   ]
  },
  {
   "cell_type": "code",
   "execution_count": null,
   "metadata": {},
   "outputs": [],
   "source": [
    "# import numpy as np\n",
    "\n",
    "# totaldelays = np.sum(a)\n",
    "# # totalnodelays = np.sum(b)\n",
    "# # print(totaldelays, totalnodelays)\n",
    "\n",
    "# b = b.iloc[:,:totaldelays]"
   ]
  },
  {
   "cell_type": "code",
   "execution_count": null,
   "metadata": {},
   "outputs": [],
   "source": [
    "# print(len(b))"
   ]
  },
  {
   "cell_type": "code",
   "execution_count": 4,
   "metadata": {},
   "outputs": [],
   "source": [
    "from sklearn import preprocessing\n",
    "\n",
    "FL_DATE = df.iloc[:,2]\n",
    "UNIQUE_CARRIER = df.iloc[:,3]\n",
    "ORIGIN = df.iloc[:,5]\n",
    "ORIGIN_CITY_NAME = df.iloc[:,6]\n",
    "DEST = df.iloc[:,7]\n",
    "DEST_CITY_NAME = df.iloc[:,8]\n",
    "# UNIQUE_CARRIER.head(5), ORIGIN.head(5), ORIGIN_CITY_NAME.head(5), DEST.head(5), DEST_CITY_NAME.head(5)"
   ]
  },
  {
   "cell_type": "code",
   "execution_count": 5,
   "metadata": {},
   "outputs": [],
   "source": [
    "le = preprocessing.LabelEncoder()\n",
    "\n",
    "le.fit(FL_DATE)\n",
    "encoded_FL_DATE = le.transform(FL_DATE)\n",
    "\n",
    "le.fit(UNIQUE_CARRIER)\n",
    "encoded_UNIQUE_CARRIER = le.transform(UNIQUE_CARRIER)\n",
    "\n",
    "le.fit(ORIGIN)\n",
    "encoded_ORIGIN = le.transform(ORIGIN)\n",
    "\n",
    "le.fit(ORIGIN_CITY_NAME)\n",
    "encoded_ORIGIN_CITY_NAME = le.transform(ORIGIN_CITY_NAME)\n",
    "\n",
    "le.fit(DEST)\n",
    "encoded_DEST = le.transform(DEST)\n",
    "\n",
    "le.fit(DEST_CITY_NAME)\n",
    "encoded_DEST_CITY_NAME = le.transform(DEST_CITY_NAME)\n",
    "\n",
    "df['FL_DATE'] = encoded_FL_DATE\n",
    "df['UNIQUE_CARRIER'] = encoded_UNIQUE_CARRIER\n",
    "df['ORIGIN'] = encoded_ORIGIN\n",
    "df['ORIGIN_CITY_NAME'] = encoded_ORIGIN_CITY_NAME\n",
    "df['DEST'] = encoded_DEST\n",
    "df['DEST_CITY_NAME'] = encoded_DEST_CITY_NAME"
   ]
  },
  {
   "cell_type": "code",
   "execution_count": 6,
   "metadata": {},
   "outputs": [
    {
     "data": {
      "text/html": [
       "<div>\n",
       "<style scoped>\n",
       "    .dataframe tbody tr th:only-of-type {\n",
       "        vertical-align: middle;\n",
       "    }\n",
       "\n",
       "    .dataframe tbody tr th {\n",
       "        vertical-align: top;\n",
       "    }\n",
       "\n",
       "    .dataframe thead th {\n",
       "        text-align: right;\n",
       "    }\n",
       "</style>\n",
       "<table border=\"1\" class=\"dataframe\">\n",
       "  <thead>\n",
       "    <tr style=\"text-align: right;\">\n",
       "      <th></th>\n",
       "      <th>MONTH</th>\n",
       "      <th>DAY_OF_WEEK</th>\n",
       "      <th>FL_DATE</th>\n",
       "      <th>UNIQUE_CARRIER</th>\n",
       "      <th>FL_NUM</th>\n",
       "      <th>ORIGIN</th>\n",
       "      <th>ORIGIN_CITY_NAME</th>\n",
       "      <th>DEST</th>\n",
       "      <th>DEST_CITY_NAME</th>\n",
       "      <th>CRS_DEP_TIME</th>\n",
       "      <th>ARR_DEL15</th>\n",
       "      <th>CRS_ELAPSED_TIME</th>\n",
       "      <th>DISTANCE</th>\n",
       "    </tr>\n",
       "  </thead>\n",
       "  <tbody>\n",
       "    <tr>\n",
       "      <th>0</th>\n",
       "      <td>2.0</td>\n",
       "      <td>6.0</td>\n",
       "      <td>330</td>\n",
       "      <td>2</td>\n",
       "      <td>28.0</td>\n",
       "      <td>188</td>\n",
       "      <td>219</td>\n",
       "      <td>98</td>\n",
       "      <td>208</td>\n",
       "      <td>1000.0</td>\n",
       "      <td>0.0</td>\n",
       "      <td>156.0</td>\n",
       "      <td>937.0</td>\n",
       "    </tr>\n",
       "    <tr>\n",
       "      <th>1</th>\n",
       "      <td>2.0</td>\n",
       "      <td>7.0</td>\n",
       "      <td>331</td>\n",
       "      <td>2</td>\n",
       "      <td>28.0</td>\n",
       "      <td>188</td>\n",
       "      <td>219</td>\n",
       "      <td>98</td>\n",
       "      <td>208</td>\n",
       "      <td>739.0</td>\n",
       "      <td>0.0</td>\n",
       "      <td>153.0</td>\n",
       "      <td>937.0</td>\n",
       "    </tr>\n",
       "    <tr>\n",
       "      <th>2</th>\n",
       "      <td>2.0</td>\n",
       "      <td>1.0</td>\n",
       "      <td>332</td>\n",
       "      <td>2</td>\n",
       "      <td>28.0</td>\n",
       "      <td>188</td>\n",
       "      <td>219</td>\n",
       "      <td>98</td>\n",
       "      <td>208</td>\n",
       "      <td>1028.0</td>\n",
       "      <td>0.0</td>\n",
       "      <td>158.0</td>\n",
       "      <td>937.0</td>\n",
       "    </tr>\n",
       "  </tbody>\n",
       "</table>\n",
       "</div>"
      ],
      "text/plain": [
       "   MONTH  DAY_OF_WEEK  FL_DATE  UNIQUE_CARRIER  FL_NUM  ORIGIN  \\\n",
       "0    2.0          6.0      330               2    28.0     188   \n",
       "1    2.0          7.0      331               2    28.0     188   \n",
       "2    2.0          1.0      332               2    28.0     188   \n",
       "\n",
       "   ORIGIN_CITY_NAME  DEST  DEST_CITY_NAME  CRS_DEP_TIME  ARR_DEL15  \\\n",
       "0               219    98             208        1000.0        0.0   \n",
       "1               219    98             208         739.0        0.0   \n",
       "2               219    98             208        1028.0        0.0   \n",
       "\n",
       "   CRS_ELAPSED_TIME  DISTANCE  \n",
       "0             156.0     937.0  \n",
       "1             153.0     937.0  \n",
       "2             158.0     937.0  "
      ]
     },
     "execution_count": 6,
     "metadata": {},
     "output_type": "execute_result"
    }
   ],
   "source": [
    "df.head(3)"
   ]
  },
  {
   "cell_type": "code",
   "execution_count": 7,
   "metadata": {},
   "outputs": [
    {
     "name": "stdout",
     "output_type": "stream",
     "text": [
      "5129354 5129354\n"
     ]
    }
   ],
   "source": [
    "# Splitting into train data and train labels\n",
    "X = df.iloc[:,df.columns != 'ARR_DEL15']\n",
    "# X = X.iloc[:,:-1] #Ignoring last column (Unname: 13)\n",
    "Y = df.iloc[:,df.columns == 'ARR_DEL15']\n",
    "print(len(X), len(Y))\n",
    "# X = X.dropna()\n",
    "# Y = Y.dropna()\n",
    "# print(len(X), len(Y))"
   ]
  },
  {
   "cell_type": "code",
   "execution_count": 19,
   "metadata": {},
   "outputs": [
    {
     "name": "stdout",
     "output_type": "stream",
     "text": [
      "training lengths : 4103483 4103483\n",
      "testing lengths : 1025871 1025871\n"
     ]
    }
   ],
   "source": [
    "split = int(len(Y) * 0.8)\n",
    "train_X = X[:split]\n",
    "train_Y = Y[:split]\n",
    "test_X = X[split:]\n",
    "test_Y = Y[split:]\n",
    "\n",
    "from sklearn.preprocessing import Imputer\n",
    "\n",
    "imputer = Imputer(missing_values = 'NaN', strategy = 'most_frequent', axis = 0)\n",
    "train_x_imputed = imputer.fit_transform(train_X)\n",
    "test_x_imputed = imputer.fit_transform(test_X)\n",
    "\n",
    "train_y_imputed = imputer.fit_transform(train_Y)\n",
    "test_y_imputed = imputer.fit_transform(test_Y)\n",
    "\n",
    "print('training lengths :',len(train_x_imputed), len(train_y_imputed))\n",
    "print('testing lengths :',len(test_x_imputed), len(test_y_imputed))"
   ]
  },
  {
   "cell_type": "code",
   "execution_count": 20,
   "metadata": {},
   "outputs": [
    {
     "data": {
      "text/plain": [
       "0.7957335766387782"
      ]
     },
     "execution_count": 20,
     "metadata": {},
     "output_type": "execute_result"
    }
   ],
   "source": [
    "from sklearn.ensemble import RandomForestClassifier\n",
    "\n",
    "clf = RandomForestClassifier()\n",
    "clf.fit(train_x_imputed, train_y_imputed)\n",
    "hyp = clf.predict(test_x_imputed)\n",
    "\n",
    "from sklearn.metrics import accuracy_score\n",
    "\n",
    "accuracy_score(hyp, test_y_imputed)"
   ]
  },
  {
   "cell_type": "code",
   "execution_count": 125,
   "metadata": {},
   "outputs": [
    {
     "name": "stderr",
     "output_type": "stream",
     "text": [
      "/usr/local/lib/python3.6/site-packages/sklearn/utils/validation.py:578: DataConversionWarning: A column-vector y was passed when a 1d array was expected. Please change the shape of y to (n_samples, ), for example using ravel().\n",
      "  y = column_or_1d(y, warn=True)\n"
     ]
    },
    {
     "name": "stdout",
     "output_type": "stream",
     "text": [
      "C =  0.0001 Accuracy :  0.8291442101394815\n",
      "C =  0.001 Accuracy :  0.8291442101394815\n",
      "C =  0.01 Accuracy :  0.8291442101394815\n",
      "C =  0.1 Accuracy :  0.8291442101394815\n",
      "C =  1 Accuracy :  0.8291442101394815\n",
      "C =  10 Accuracy :  0.8291442101394815\n",
      "C =  100 Accuracy :  0.8291442101394815\n",
      "C =  1000 Accuracy :  0.8291442101394815\n",
      "C =  10000 Accuracy :  0.8291442101394815\n"
     ]
    }
   ],
   "source": [
    "from sklearn.linear_model import LogisticRegression\n",
    "\n",
    "C = [0.0001, 0.001, 0.01, 0.1, 1, 10, 100, 1000, 10000]\n",
    "\n",
    "for c in C:\n",
    "    clf = LogisticRegression(penalty = 'l1', C=c)\n",
    "    clf.fit(train_x_imputed, train_y_imputed)\n",
    "    hyp = clf.predict(test_x_imputed)\n",
    "    accuracy = accuracy_score(test_y_imputed,hyp)\n",
    "    print('C = ', c, 'Accuracy : ', accuracy)"
   ]
  },
  {
   "cell_type": "code",
   "execution_count": 126,
   "metadata": {},
   "outputs": [
    {
     "name": "stderr",
     "output_type": "stream",
     "text": [
      "/usr/local/lib/python3.6/site-packages/sklearn/neural_network/multilayer_perceptron.py:912: DataConversionWarning: A column-vector y was passed when a 1d array was expected. Please change the shape of y to (n_samples, ), for example using ravel().\n",
      "  y = column_or_1d(y, warn=True)\n"
     ]
    },
    {
     "name": "stdout",
     "output_type": "stream",
     "text": [
      "Accuracy Score : 0.8291442101394815\n"
     ]
    }
   ],
   "source": [
    "from sklearn.neural_network import MLPClassifier\n",
    "\n",
    "clf = MLPClassifier()\n",
    "clf.fit(train_x_imputed, train_y_imputed)\n",
    "hyp = clf.predict(test_x_imputed)\n",
    "print(\"Accuracy Score :\",accuracy_score(test_y_imputed, hyp))"
   ]
  },
  {
   "cell_type": "code",
   "execution_count": 11,
   "metadata": {},
   "outputs": [
    {
     "name": "stdout",
     "output_type": "stream",
     "text": [
      "Accuracy Score : 0.8164273905516478\n",
      "Accuracy Score : 0.839952742642357\n",
      "Accuracy Score : 0.7793876818940375\n",
      "Accuracy Score : 0.8264617808069623\n",
      "Accuracy Score : 0.8040122042753955\n",
      "Accuracy Score : 0.7527698441322974\n",
      "Accuracy Score : 0.7757142717888231\n",
      "Accuracy Score : 0.8075077738894791\n",
      "Accuracy Score : 0.8382017214656828\n",
      "Accuracy Score : 0.763874565003363\n",
      "10 fold cross validation Accuracy Score : [0.8164273905516478, 0.839952742642357, 0.7793876818940375, 0.8264617808069623, 0.8040122042753955, 0.7527698441322974, 0.7757142717888231, 0.8075077738894791, 0.8382017214656828, 0.763874565003363]\n"
     ]
    }
   ],
   "source": [
    "from sklearn.model_selection import KFold\n",
    "import warnings; warnings.simplefilter('ignore')\n",
    "from sklearn.preprocessing import Imputer\n",
    "from sklearn.ensemble import RandomForestClassifier\n",
    "from sklearn.metrics import accuracy_score\n",
    "\n",
    "# train_data = train_data.values.tolist()\n",
    "# train_labels = train_labels.values.tolist()\n",
    "\n",
    "accuracylist = []\n",
    "\n",
    "x_for_kfold = X\n",
    "kfold = KFold(n_splits=10)\n",
    "for train_index, test_index in kfold.split(x_for_kfold):\n",
    "#     print('Train: {} | Test: {}'.format(train_index,test_index))\n",
    "    X_train, X_test = X.values[train_index], X.values[test_index]\n",
    "    y_train, y_test = Y.values[train_index], Y.values[test_index]\n",
    "#     print(len(X_train), len(X_test))\n",
    "    imputer = Imputer(missing_values = 'NaN', strategy = 'most_frequent', axis = 0)\n",
    "    train_x_imputed = imputer.fit_transform(X_train)\n",
    "    test_x_imputed = imputer.fit_transform(y_train)\n",
    "    train_y_imputed = imputer.fit_transform(X_test)\n",
    "    test_y_imputed = imputer.fit_transform(y_test)\n",
    "#     clf = LogisticRegression()\n",
    "    clf = RandomForestClassifier()\n",
    "    clf.fit(train_x_imputed, test_x_imputed)\n",
    "    hyp = clf.predict(train_y_imputed)\n",
    "    accuracylist.append(accuracy_score(test_y_imputed, hyp))\n",
    "    print(\"Accuracy Score :\",accuracy_score(test_y_imputed, hyp))\n",
    "print(\"10 fold cross validation Accuracy Score :\", np.mean(accuracylist))"
   ]
  },
  {
   "cell_type": "code",
   "execution_count": 16,
   "metadata": {},
   "outputs": [
    {
     "name": "stdout",
     "output_type": "stream",
     "text": [
      "10 fold cross validation Accuracy Score : 0.8004309976450046\n",
      "39880\n"
     ]
    }
   ],
   "source": [
    "import numpy as np\n",
    "print(\"10 fold cross validation Accuracy Score :\", np.mean(accuracylist))\n",
    "print(sum(hyp==1))"
   ]
  },
  {
   "cell_type": "code",
   "execution_count": 155,
   "metadata": {
    "collapsed": true
   },
   "outputs": [
    {
     "name": "stdout",
     "output_type": "stream",
     "text": [
      "Accuracy Score : 0.8478855061840074\n",
      "Accuracy Score : 0.8494549027558994\n",
      "Accuracy Score : 0.7897359514637303\n",
      "Accuracy Score : 0.8493242821716549\n"
     ]
    },
    {
     "ename": "KeyboardInterrupt",
     "evalue": "",
     "output_type": "error",
     "traceback": [
      "\u001b[0;31m---------------------------------------------------------------------------\u001b[0m",
      "\u001b[0;31mKeyboardInterrupt\u001b[0m                         Traceback (most recent call last)",
      "\u001b[0;32m<ipython-input-155-d2908a24092f>\u001b[0m in \u001b[0;36m<module>\u001b[0;34m()\u001b[0m\n\u001b[1;32m     15\u001b[0m \u001b[0;31m#     print(len(X_train), len(X_test))\u001b[0m\u001b[0;34m\u001b[0m\u001b[0;34m\u001b[0m\u001b[0m\n\u001b[1;32m     16\u001b[0m     \u001b[0mimputer\u001b[0m \u001b[0;34m=\u001b[0m \u001b[0mImputer\u001b[0m\u001b[0;34m(\u001b[0m\u001b[0mmissing_values\u001b[0m \u001b[0;34m=\u001b[0m \u001b[0;34m'NaN'\u001b[0m\u001b[0;34m,\u001b[0m \u001b[0mstrategy\u001b[0m \u001b[0;34m=\u001b[0m \u001b[0;34m'most_frequent'\u001b[0m\u001b[0;34m,\u001b[0m \u001b[0maxis\u001b[0m \u001b[0;34m=\u001b[0m \u001b[0;36m0\u001b[0m\u001b[0;34m)\u001b[0m\u001b[0;34m\u001b[0m\u001b[0m\n\u001b[0;32m---> 17\u001b[0;31m     \u001b[0mtrain_x_imputed\u001b[0m \u001b[0;34m=\u001b[0m \u001b[0mimputer\u001b[0m\u001b[0;34m.\u001b[0m\u001b[0mfit_transform\u001b[0m\u001b[0;34m(\u001b[0m\u001b[0mX_train\u001b[0m\u001b[0;34m)\u001b[0m\u001b[0;34m\u001b[0m\u001b[0m\n\u001b[0m\u001b[1;32m     18\u001b[0m     \u001b[0mtest_x_imputed\u001b[0m \u001b[0;34m=\u001b[0m \u001b[0mimputer\u001b[0m\u001b[0;34m.\u001b[0m\u001b[0mfit_transform\u001b[0m\u001b[0;34m(\u001b[0m\u001b[0my_train\u001b[0m\u001b[0;34m)\u001b[0m\u001b[0;34m\u001b[0m\u001b[0m\n\u001b[1;32m     19\u001b[0m     \u001b[0mtrain_y_imputed\u001b[0m \u001b[0;34m=\u001b[0m \u001b[0mimputer\u001b[0m\u001b[0;34m.\u001b[0m\u001b[0mfit_transform\u001b[0m\u001b[0;34m(\u001b[0m\u001b[0mX_test\u001b[0m\u001b[0;34m)\u001b[0m\u001b[0;34m\u001b[0m\u001b[0m\n",
      "\u001b[0;32m/usr/local/lib/python3.6/site-packages/sklearn/base.py\u001b[0m in \u001b[0;36mfit_transform\u001b[0;34m(self, X, y, **fit_params)\u001b[0m\n\u001b[1;32m    515\u001b[0m         \u001b[0;32mif\u001b[0m \u001b[0my\u001b[0m \u001b[0;32mis\u001b[0m \u001b[0;32mNone\u001b[0m\u001b[0;34m:\u001b[0m\u001b[0;34m\u001b[0m\u001b[0m\n\u001b[1;32m    516\u001b[0m             \u001b[0;31m# fit method of arity 1 (unsupervised transformation)\u001b[0m\u001b[0;34m\u001b[0m\u001b[0;34m\u001b[0m\u001b[0m\n\u001b[0;32m--> 517\u001b[0;31m             \u001b[0;32mreturn\u001b[0m \u001b[0mself\u001b[0m\u001b[0;34m.\u001b[0m\u001b[0mfit\u001b[0m\u001b[0;34m(\u001b[0m\u001b[0mX\u001b[0m\u001b[0;34m,\u001b[0m \u001b[0;34m**\u001b[0m\u001b[0mfit_params\u001b[0m\u001b[0;34m)\u001b[0m\u001b[0;34m.\u001b[0m\u001b[0mtransform\u001b[0m\u001b[0;34m(\u001b[0m\u001b[0mX\u001b[0m\u001b[0;34m)\u001b[0m\u001b[0;34m\u001b[0m\u001b[0m\n\u001b[0m\u001b[1;32m    518\u001b[0m         \u001b[0;32melse\u001b[0m\u001b[0;34m:\u001b[0m\u001b[0;34m\u001b[0m\u001b[0m\n\u001b[1;32m    519\u001b[0m             \u001b[0;31m# fit method of arity 2 (supervised transformation)\u001b[0m\u001b[0;34m\u001b[0m\u001b[0;34m\u001b[0m\u001b[0m\n",
      "\u001b[0;32m/usr/local/lib/python3.6/site-packages/sklearn/preprocessing/imputation.py\u001b[0m in \u001b[0;36mfit\u001b[0;34m(self, X, y)\u001b[0m\n\u001b[1;32m    164\u001b[0m                                                    \u001b[0mself\u001b[0m\u001b[0;34m.\u001b[0m\u001b[0mstrategy\u001b[0m\u001b[0;34m,\u001b[0m\u001b[0;34m\u001b[0m\u001b[0m\n\u001b[1;32m    165\u001b[0m                                                    \u001b[0mself\u001b[0m\u001b[0;34m.\u001b[0m\u001b[0mmissing_values\u001b[0m\u001b[0;34m,\u001b[0m\u001b[0;34m\u001b[0m\u001b[0m\n\u001b[0;32m--> 166\u001b[0;31m                                                    self.axis)\n\u001b[0m\u001b[1;32m    167\u001b[0m \u001b[0;34m\u001b[0m\u001b[0m\n\u001b[1;32m    168\u001b[0m         \u001b[0;32mreturn\u001b[0m \u001b[0mself\u001b[0m\u001b[0;34m\u001b[0m\u001b[0m\n",
      "\u001b[0;32m/usr/local/lib/python3.6/site-packages/sklearn/preprocessing/imputation.py\u001b[0m in \u001b[0;36m_dense_fit\u001b[0;34m(self, X, strategy, missing_values, axis)\u001b[0m\n\u001b[1;32m    295\u001b[0m                 \u001b[0mrow_mask\u001b[0m \u001b[0;34m=\u001b[0m \u001b[0mnp\u001b[0m\u001b[0;34m.\u001b[0m\u001b[0mlogical_not\u001b[0m\u001b[0;34m(\u001b[0m\u001b[0mrow_mask\u001b[0m\u001b[0;34m)\u001b[0m\u001b[0;34m.\u001b[0m\u001b[0mastype\u001b[0m\u001b[0;34m(\u001b[0m\u001b[0mnp\u001b[0m\u001b[0;34m.\u001b[0m\u001b[0mbool\u001b[0m\u001b[0;34m)\u001b[0m\u001b[0;34m\u001b[0m\u001b[0m\n\u001b[1;32m    296\u001b[0m                 \u001b[0mrow\u001b[0m \u001b[0;34m=\u001b[0m \u001b[0mrow\u001b[0m\u001b[0;34m[\u001b[0m\u001b[0mrow_mask\u001b[0m\u001b[0;34m]\u001b[0m\u001b[0;34m\u001b[0m\u001b[0m\n\u001b[0;32m--> 297\u001b[0;31m                 \u001b[0mmost_frequent\u001b[0m\u001b[0;34m[\u001b[0m\u001b[0mi\u001b[0m\u001b[0;34m]\u001b[0m \u001b[0;34m=\u001b[0m \u001b[0m_most_frequent\u001b[0m\u001b[0;34m(\u001b[0m\u001b[0mrow\u001b[0m\u001b[0;34m,\u001b[0m \u001b[0mnp\u001b[0m\u001b[0;34m.\u001b[0m\u001b[0mnan\u001b[0m\u001b[0;34m,\u001b[0m \u001b[0;36m0\u001b[0m\u001b[0;34m)\u001b[0m\u001b[0;34m\u001b[0m\u001b[0m\n\u001b[0m\u001b[1;32m    298\u001b[0m \u001b[0;34m\u001b[0m\u001b[0m\n\u001b[1;32m    299\u001b[0m             \u001b[0;32mreturn\u001b[0m \u001b[0mmost_frequent\u001b[0m\u001b[0;34m\u001b[0m\u001b[0m\n",
      "\u001b[0;32m/usr/local/lib/python3.6/site-packages/sklearn/preprocessing/imputation.py\u001b[0m in \u001b[0;36m_most_frequent\u001b[0;34m(array, extra_value, n_repeat)\u001b[0m\n\u001b[1;32m     39\u001b[0m     \u001b[0;31m# Compute the most frequent value in array only\u001b[0m\u001b[0;34m\u001b[0m\u001b[0;34m\u001b[0m\u001b[0m\n\u001b[1;32m     40\u001b[0m     \u001b[0;32mif\u001b[0m \u001b[0marray\u001b[0m\u001b[0;34m.\u001b[0m\u001b[0msize\u001b[0m \u001b[0;34m>\u001b[0m \u001b[0;36m0\u001b[0m\u001b[0;34m:\u001b[0m\u001b[0;34m\u001b[0m\u001b[0m\n\u001b[0;32m---> 41\u001b[0;31m         \u001b[0mmode\u001b[0m \u001b[0;34m=\u001b[0m \u001b[0mstats\u001b[0m\u001b[0;34m.\u001b[0m\u001b[0mmode\u001b[0m\u001b[0;34m(\u001b[0m\u001b[0marray\u001b[0m\u001b[0;34m)\u001b[0m\u001b[0;34m\u001b[0m\u001b[0m\n\u001b[0m\u001b[1;32m     42\u001b[0m         \u001b[0mmost_frequent_value\u001b[0m \u001b[0;34m=\u001b[0m \u001b[0mmode\u001b[0m\u001b[0;34m[\u001b[0m\u001b[0;36m0\u001b[0m\u001b[0;34m]\u001b[0m\u001b[0;34m[\u001b[0m\u001b[0;36m0\u001b[0m\u001b[0;34m]\u001b[0m\u001b[0;34m\u001b[0m\u001b[0m\n\u001b[1;32m     43\u001b[0m         \u001b[0mmost_frequent_count\u001b[0m \u001b[0;34m=\u001b[0m \u001b[0mmode\u001b[0m\u001b[0;34m[\u001b[0m\u001b[0;36m1\u001b[0m\u001b[0;34m]\u001b[0m\u001b[0;34m[\u001b[0m\u001b[0;36m0\u001b[0m\u001b[0;34m]\u001b[0m\u001b[0;34m\u001b[0m\u001b[0m\n",
      "\u001b[0;32m/usr/local/lib/python3.6/site-packages/scipy/stats/stats.py\u001b[0m in \u001b[0;36mmode\u001b[0;34m(a, axis, nan_policy)\u001b[0m\n\u001b[1;32m    442\u001b[0m     \u001b[0moldcounts\u001b[0m \u001b[0;34m=\u001b[0m \u001b[0mnp\u001b[0m\u001b[0;34m.\u001b[0m\u001b[0mzeros\u001b[0m\u001b[0;34m(\u001b[0m\u001b[0mtestshape\u001b[0m\u001b[0;34m,\u001b[0m \u001b[0mdtype\u001b[0m\u001b[0;34m=\u001b[0m\u001b[0mint\u001b[0m\u001b[0;34m)\u001b[0m\u001b[0;34m\u001b[0m\u001b[0m\n\u001b[1;32m    443\u001b[0m     \u001b[0;32mfor\u001b[0m \u001b[0mscore\u001b[0m \u001b[0;32min\u001b[0m \u001b[0mscores\u001b[0m\u001b[0;34m:\u001b[0m\u001b[0;34m\u001b[0m\u001b[0m\n\u001b[0;32m--> 444\u001b[0;31m         \u001b[0mtemplate\u001b[0m \u001b[0;34m=\u001b[0m \u001b[0;34m(\u001b[0m\u001b[0ma\u001b[0m \u001b[0;34m==\u001b[0m \u001b[0mscore\u001b[0m\u001b[0;34m)\u001b[0m\u001b[0;34m\u001b[0m\u001b[0m\n\u001b[0m\u001b[1;32m    445\u001b[0m         \u001b[0mcounts\u001b[0m \u001b[0;34m=\u001b[0m \u001b[0mnp\u001b[0m\u001b[0;34m.\u001b[0m\u001b[0mexpand_dims\u001b[0m\u001b[0;34m(\u001b[0m\u001b[0mnp\u001b[0m\u001b[0;34m.\u001b[0m\u001b[0msum\u001b[0m\u001b[0;34m(\u001b[0m\u001b[0mtemplate\u001b[0m\u001b[0;34m,\u001b[0m \u001b[0maxis\u001b[0m\u001b[0;34m)\u001b[0m\u001b[0;34m,\u001b[0m \u001b[0maxis\u001b[0m\u001b[0;34m)\u001b[0m\u001b[0;34m\u001b[0m\u001b[0m\n\u001b[1;32m    446\u001b[0m         \u001b[0mmostfrequent\u001b[0m \u001b[0;34m=\u001b[0m \u001b[0mnp\u001b[0m\u001b[0;34m.\u001b[0m\u001b[0mwhere\u001b[0m\u001b[0;34m(\u001b[0m\u001b[0mcounts\u001b[0m \u001b[0;34m>\u001b[0m \u001b[0moldcounts\u001b[0m\u001b[0;34m,\u001b[0m \u001b[0mscore\u001b[0m\u001b[0;34m,\u001b[0m \u001b[0moldmostfreq\u001b[0m\u001b[0;34m)\u001b[0m\u001b[0;34m\u001b[0m\u001b[0m\n",
      "\u001b[0;31mKeyboardInterrupt\u001b[0m: "
     ]
    }
   ],
   "source": [
    "from sklearn.model_selection import KFold\n",
    "import warnings; warnings.simplefilter('ignore')\n",
    "\n",
    "# train_data = train_data.values.tolist()\n",
    "# train_labels = train_labels.values.tolist()\n",
    "\n",
    "accuracylist = []\n",
    "\n",
    "x_for_kfold = X\n",
    "kfold = KFold(n_splits=10)\n",
    "for train_index, test_index in kfold.split(x_for_kfold):\n",
    "#     print('Train: {} | Test: {}'.format(train_index,test_index))\n",
    "    X_train, X_test = X.values[train_index], X.values[test_index]\n",
    "    y_train, y_test = Y.values[train_index], Y.values[test_index]\n",
    "#     print(len(X_train), len(X_test))\n",
    "    imputer = Imputer(missing_values = 'NaN', strategy = 'most_frequent', axis = 0)\n",
    "    train_x_imputed = imputer.fit_transform(X_train)\n",
    "    test_x_imputed = imputer.fit_transform(y_train)\n",
    "    train_y_imputed = imputer.fit_transform(X_test)\n",
    "    test_y_imputed = imputer.fit_transform(y_test)\n",
    "    clf = LogisticRegression()\n",
    "#     clf = RandomForestClassifier()\n",
    "    clf.fit(train_x_imputed, test_x_imputed)\n",
    "    hyp = clf.predict(train_y_imputed)\n",
    "    accuracylist.append(accuracy_score(test_y_imputed, hyp))\n",
    "    print(\"Accuracy Score :\",accuracy_score(test_y_imputed, hyp))\n",
    "print(\"10 fold cross validation Accuracy Score :\", np.mean(accuracylist))"
   ]
  },
  {
   "cell_type": "code",
   "execution_count": 22,
   "metadata": {},
   "outputs": [
    {
     "name": "stdout",
     "output_type": "stream",
     "text": [
      "Confusion Matrix:\n",
      " [[794311  56284]\n",
      " [153267  22009]]\n"
     ]
    }
   ],
   "source": [
    "from sklearn.metrics import accuracy_score, confusion_matrix\n",
    "\n",
    "print('Confusion Matrix:\\n', confusion_matrix(test_y_imputed, hyp))"
   ]
  },
  {
   "cell_type": "code",
   "execution_count": null,
   "metadata": {},
   "outputs": [],
   "source": [
    "# DecisionTree = 0.7766\n",
    "# RF = 0.7964\n",
    "# LR = 0.8291\n",
    "# MLP = 0.8291"
   ]
  }
 ],
 "metadata": {
  "kernelspec": {
   "display_name": "Python 3",
   "language": "python",
   "name": "python3"
  },
  "language_info": {
   "codemirror_mode": {
    "name": "ipython",
    "version": 3
   },
   "file_extension": ".py",
   "mimetype": "text/x-python",
   "name": "python",
   "nbconvert_exporter": "python",
   "pygments_lexer": "ipython3",
   "version": "3.6.5"
  }
 },
 "nbformat": 4,
 "nbformat_minor": 2
}
